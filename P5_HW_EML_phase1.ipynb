{
  "nbformat": 4,
  "nbformat_minor": 0,
  "metadata": {
    "colab": {
      "provenance": [],
      "gpuType": "T4",
      "authorship_tag": "ABX9TyNzwhEDiaV0bpBr6wBLQpIr",
      "include_colab_link": true
    },
    "kernelspec": {
      "name": "python3",
      "display_name": "Python 3"
    },
    "language_info": {
      "name": "python"
    },
    "accelerator": "GPU"
  },
  "cells": [
    {
      "cell_type": "markdown",
      "metadata": {
        "id": "view-in-github",
        "colab_type": "text"
      },
      "source": [
        "<a href=\"https://colab.research.google.com/github/Debanjalee1210/CEN-598-Embedded-Machine-Learning/blob/main/P5_HW_EML_phase1.ipynb\" target=\"_parent\"><img src=\"https://colab.research.google.com/assets/colab-badge.svg\" alt=\"Open In Colab\"/></a>"
      ]
    },
    {
      "cell_type": "code",
      "execution_count": 42,
      "metadata": {
        "id": "cHUhJ_HMivV1"
      },
      "outputs": [],
      "source": [
        "import tensorflow as tf\n",
        "from tensorflow import keras\n",
        "from tensorflow.keras import layers\n",
        "from sklearn.preprocessing import LabelEncoder\n",
        "from matplotlib import pyplot as plt\n",
        "import numpy as np\n",
        "\n"
      ]
    },
    {
      "cell_type": "code",
      "source": [
        "# Define class names for CIFAR-10\n",
        "class_names = [\n",
        "    \"airplane\", \"automobile\", \"bird\", \"cat\", \"deer\",\n",
        "    \"dog\", \"frog\", \"horse\", \"ship\", \"truck\"\n",
        "]\n",
        "\n",
        "# Load CIFAR-10 dataset\n",
        "(x_train, y_train), (x_test, y_test) = keras.datasets.cifar10.load_data()\n",
        "\n",
        "# Normalize the pixel values\n",
        "x_train, x_test = x_train / 255.0, x_test / 255.0"
      ],
      "metadata": {
        "id": "cAttYSWXi6ui"
      },
      "execution_count": 31,
      "outputs": []
    },
    {
      "cell_type": "code",
      "source": [
        "x_train.shape"
      ],
      "metadata": {
        "colab": {
          "base_uri": "https://localhost:8080/"
        },
        "id": "oBR2JGvkjTVq",
        "outputId": "72ebdd23-4f6c-4367-e6cd-43a14a0e10a7"
      },
      "execution_count": 32,
      "outputs": [
        {
          "output_type": "execute_result",
          "data": {
            "text/plain": [
              "(50000, 32, 32, 3)"
            ]
          },
          "metadata": {},
          "execution_count": 32
        }
      ]
    },
    {
      "cell_type": "code",
      "source": [
        "x_test.shape"
      ],
      "metadata": {
        "colab": {
          "base_uri": "https://localhost:8080/"
        },
        "id": "HNZ1S7NAjVB5",
        "outputId": "0edc5d93-1974-4566-8934-f87ede81b7b5"
      },
      "execution_count": 33,
      "outputs": [
        {
          "output_type": "execute_result",
          "data": {
            "text/plain": [
              "(10000, 32, 32, 3)"
            ]
          },
          "metadata": {},
          "execution_count": 33
        }
      ]
    },
    {
      "cell_type": "code",
      "source": [
        "print(x_train.shape,y_train.shape,x_test.shape,y_test.shape)"
      ],
      "metadata": {
        "colab": {
          "base_uri": "https://localhost:8080/"
        },
        "id": "24UoGctujXsC",
        "outputId": "cab10100-59e6-4b13-a37e-24d019ac31e6"
      },
      "execution_count": 34,
      "outputs": [
        {
          "output_type": "stream",
          "name": "stdout",
          "text": [
            "(50000, 32, 32, 3) (50000, 1) (10000, 32, 32, 3) (10000, 1)\n"
          ]
        }
      ]
    },
    {
      "cell_type": "code",
      "source": [
        "from sklearn.utils import shuffle\n",
        "x_train,y_train = shuffle(x_train,y_train)\n",
        "x_test,y_test = shuffle(x_test,y_test)\n",
        "pivot = int(x_train.shape[0]*0.8)\n",
        "x_val = x_train[pivot:]\n",
        "y_val = y_train[pivot:]\n",
        "x_train = x_train[:pivot]\n",
        "y_train = y_train[:pivot]\n",
        "x_train=x_train.reshape(-1,32,32,3)\n",
        "x_val=x_val.reshape(-1,32,32,3)\n",
        "x_test=x_test.reshape(-1,32,32,3)\n",
        "print(x_train.shape,x_val.shape,x_test.shape)\n",
        "print(y_train.shape,y_val.shape,y_test.shape)"
      ],
      "metadata": {
        "colab": {
          "base_uri": "https://localhost:8080/"
        },
        "id": "Xb6IW3fIjcGa",
        "outputId": "d94a5be7-4bc1-4ec0-b361-b8a2ebc39d99"
      },
      "execution_count": 35,
      "outputs": [
        {
          "output_type": "stream",
          "name": "stdout",
          "text": [
            "(40000, 32, 32, 3) (10000, 32, 32, 3) (10000, 32, 32, 3)\n",
            "(40000, 1) (10000, 1) (10000, 1)\n"
          ]
        }
      ]
    },
    {
      "cell_type": "code",
      "source": [
        "# One-hot encode the labels\n",
        "num_classes = 10\n",
        "y_train = keras.utils.to_categorical(y_train, num_classes)\n",
        "y_val = keras.utils.to_categorical(y_val, num_classes)\n",
        "y_test = keras.utils.to_categorical(y_test, num_classes)"
      ],
      "metadata": {
        "id": "4aJhmu7vj2nL"
      },
      "execution_count": 36,
      "outputs": []
    },
    {
      "cell_type": "code",
      "source": [
        "# Define the CNN model\n",
        "model = keras.Sequential([\n",
        "    layers.Conv2D(32, (3, 3), activation='relu', input_shape=(32, 32, 3)),\n",
        "    layers.Conv2D(64, (3, 3), activation='relu'),\n",
        "    layers.Flatten(),\n",
        "    layers.Dense(128, activation='relu'),\n",
        "    layers.Dense(10, activation='softmax')\n",
        "])"
      ],
      "metadata": {
        "id": "Q-ojPDPYj51h"
      },
      "execution_count": 37,
      "outputs": []
    },
    {
      "cell_type": "code",
      "source": [
        "# Compile the model\n",
        "model.compile(optimizer='adam',\n",
        "              loss='categorical_crossentropy',\n",
        "              metrics=['accuracy'])"
      ],
      "metadata": {
        "id": "RLfSfofgj8Aa"
      },
      "execution_count": 38,
      "outputs": []
    },
    {
      "cell_type": "code",
      "source": [
        "#print the model summary\n",
        "model.summary()"
      ],
      "metadata": {
        "colab": {
          "base_uri": "https://localhost:8080/"
        },
        "id": "BodYcBvDj-GK",
        "outputId": "929ba614-bcf0-4255-c2d2-7345cb6b39c3"
      },
      "execution_count": 39,
      "outputs": [
        {
          "output_type": "stream",
          "name": "stdout",
          "text": [
            "Model: \"sequential_1\"\n",
            "_________________________________________________________________\n",
            " Layer (type)                Output Shape              Param #   \n",
            "=================================================================\n",
            " conv2d_2 (Conv2D)           (None, 30, 30, 32)        896       \n",
            "                                                                 \n",
            " conv2d_3 (Conv2D)           (None, 28, 28, 64)        18496     \n",
            "                                                                 \n",
            " flatten_1 (Flatten)         (None, 50176)             0         \n",
            "                                                                 \n",
            " dense_2 (Dense)             (None, 128)               6422656   \n",
            "                                                                 \n",
            " dense_3 (Dense)             (None, 10)                1290      \n",
            "                                                                 \n",
            "=================================================================\n",
            "Total params: 6443338 (24.58 MB)\n",
            "Trainable params: 6443338 (24.58 MB)\n",
            "Non-trainable params: 0 (0.00 Byte)\n",
            "_________________________________________________________________\n"
          ]
        }
      ]
    },
    {
      "cell_type": "code",
      "source": [
        "# Train the model\n",
        "history = model.fit(x_train,y_train,validation_data=(x_val,y_val),epochs=10)\n",
        "test_loss, test_acc = model.evaluate(x_test, y_test)\n",
        "print(f'Test accuracy: {test_acc}')"
      ],
      "metadata": {
        "colab": {
          "base_uri": "https://localhost:8080/"
        },
        "id": "ZAiAgWbHrJu9",
        "outputId": "ed96334f-e36c-4529-b856-efd4c64082ae"
      },
      "execution_count": 40,
      "outputs": [
        {
          "output_type": "stream",
          "name": "stdout",
          "text": [
            "Epoch 1/10\n",
            "1250/1250 [==============================] - 11s 8ms/step - loss: 1.4569 - accuracy: 0.4776 - val_loss: 1.2539 - val_accuracy: 0.5563\n",
            "Epoch 2/10\n",
            "1250/1250 [==============================] - 9s 7ms/step - loss: 1.0272 - accuracy: 0.6364 - val_loss: 1.0467 - val_accuracy: 0.6364\n",
            "Epoch 3/10\n",
            "1250/1250 [==============================] - 8s 6ms/step - loss: 0.7832 - accuracy: 0.7258 - val_loss: 1.0523 - val_accuracy: 0.6400\n",
            "Epoch 4/10\n",
            "1250/1250 [==============================] - 8s 7ms/step - loss: 0.5608 - accuracy: 0.8044 - val_loss: 1.1556 - val_accuracy: 0.6315\n",
            "Epoch 5/10\n",
            "1250/1250 [==============================] - 8s 7ms/step - loss: 0.3450 - accuracy: 0.8814 - val_loss: 1.4126 - val_accuracy: 0.6233\n",
            "Epoch 6/10\n",
            "1250/1250 [==============================] - 8s 7ms/step - loss: 0.1895 - accuracy: 0.9360 - val_loss: 1.7523 - val_accuracy: 0.6243\n",
            "Epoch 7/10\n",
            "1250/1250 [==============================] - 8s 7ms/step - loss: 0.1119 - accuracy: 0.9642 - val_loss: 2.0083 - val_accuracy: 0.6238\n",
            "Epoch 8/10\n",
            "1250/1250 [==============================] - 8s 7ms/step - loss: 0.0893 - accuracy: 0.9710 - val_loss: 2.2929 - val_accuracy: 0.6272\n",
            "Epoch 9/10\n",
            "1250/1250 [==============================] - 8s 6ms/step - loss: 0.0831 - accuracy: 0.9726 - val_loss: 2.4289 - val_accuracy: 0.6167\n",
            "Epoch 10/10\n",
            "1250/1250 [==============================] - 9s 7ms/step - loss: 0.0631 - accuracy: 0.9789 - val_loss: 2.8198 - val_accuracy: 0.6152\n",
            "313/313 [==============================] - 1s 3ms/step - loss: 2.8558 - accuracy: 0.6053\n",
            "Test accuracy: 0.6053000092506409\n"
          ]
        }
      ]
    },
    {
      "cell_type": "code",
      "source": [
        "# Evaluate the model\n",
        "plt.figure()\n",
        "plt.plot(history.history['accuracy'])\n",
        "plt.plot(history.history['val_accuracy'])\n",
        "plt.title('Learning curve:Accuracy vs epochs')\n",
        "plt.ylabel('Accuracy')\n",
        "plt.xlabel('Epoch')\n",
        "plt.legend(['train','validation'])\n",
        "plt.show()"
      ],
      "metadata": {
        "colab": {
          "base_uri": "https://localhost:8080/",
          "height": 472
        },
        "id": "YTdJUYmWrTE6",
        "outputId": "1df48b07-256d-40ae-b49f-983a91e0b387"
      },
      "execution_count": 43,
      "outputs": [
        {
          "output_type": "display_data",
          "data": {
            "text/plain": [
              "<Figure size 640x480 with 1 Axes>"
            ],
            "image/png": "[encoded data removed]"
          },
          "metadata": {}
        }
      ]
    }
  ]
}